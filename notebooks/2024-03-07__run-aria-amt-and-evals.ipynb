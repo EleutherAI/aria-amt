{
 "cells": [
  {
   "cell_type": "code",
   "execution_count": 3,
   "metadata": {
    "ExecuteTime": {
     "end_time": "2024-03-08T02:01:24.262700Z",
     "start_time": "2024-03-08T02:01:23.754126Z"
    },
    "collapsed": false
   },
   "outputs": [
    {
     "name": "stdout",
     "output_type": "stream",
     "text": [
      "mkdir: cannot create directory ‘../amt/assets’: File exists\r\n"
     ]
    }
   ],
   "source": [
    "! mkdir '../amt/assets'\n",
    "! mkdir '../amt/assets/impulse'\n",
    "! mkdir '../amt/assets/noise'"
   ]
  },
  {
   "cell_type": "code",
   "execution_count": 1,
   "metadata": {
    "ExecuteTime": {
     "end_time": "2024-03-08T03:39:12.094229Z",
     "start_time": "2024-03-08T03:39:07.414566Z"
    },
    "collapsed": false
   },
   "outputs": [],
   "source": [
    "import torch\n",
    "import os\n",
    "import sys\n",
    "import subprocess\n",
    "\n",
    "MODEL_NAME = \"medium\"\n",
    "CHECKPOINT_NAME = f\"med-81.safetensors\""
   ]
  },
  {
   "cell_type": "code",
   "execution_count": 7,
   "metadata": {
    "ExecuteTime": {
     "end_time": "2024-03-08T03:51:28.491243Z",
     "start_time": "2024-03-08T03:51:28.477962Z"
    },
    "collapsed": false
   },
   "outputs": [],
   "source": [
    "if not os.path.isfile(f\"{CHECKPOINT_NAME}\"):\n",
    "  ! wget https://storage.googleapis.com/aria-checkpoints/amt/{CHECKPOINT_NAME} {CHECKPOINT_NAME}"
   ]
  },
  {
   "cell_type": "code",
   "execution_count": 4,
   "metadata": {
    "ExecuteTime": {
     "end_time": "2024-03-08T03:39:12.177865Z",
     "start_time": "2024-03-08T03:39:12.133447Z"
    },
    "collapsed": false
   },
   "outputs": [
    {
     "data": {
      "text/plain": [
       "<module 'amt.run' from '/mnt/data10/spangher/aria-amt/amt/run.py'>"
      ]
     },
     "execution_count": 4,
     "metadata": {},
     "output_type": "execute_result"
    }
   ],
   "source": [
    "import amt.run\n",
    "from importlib import reload\n",
    "reload(amt.run)"
   ]
  },
  {
   "cell_type": "code",
   "execution_count": 5,
   "metadata": {
    "ExecuteTime": {
     "end_time": "2024-03-08T03:50:35.603392Z",
     "start_time": "2024-03-08T03:39:13.021352Z"
    },
    "collapsed": false
   },
   "outputs": [
    {
     "name": "stderr",
     "output_type": "stream",
     "text": [
      "                                                  \r"
     ]
    },
    {
     "name": "stdout",
     "output_type": "stream",
     "text": [
      "838861: Getting wav segments\n",
      "838861: Finished file 1 - test-transcription/MIDI-Unprocessed_SMF_02_R1_2004_01-05_ORIG_MID--AUDIO_02_R1_2004_05_Track05_wav.wav\n",
      "838861: 0 file(s) remaining in queue\n",
      "839109: GPU task timeout\n",
      "839109: Finished GPU tasks\n"
     ]
    }
   ],
   "source": [
    "# model_name, checkpoint_path, save_dir, load_path=None, load_dir=None, batch_size=16, multi_gpu=False\n",
    "amt.run.transcribe(\n",
    "  model_name=MODEL_NAME,\n",
    "  checkpoint_path=CHECKPOINT_NAME,\n",
    "  load_path='test-transcription/MIDI-Unprocessed_SMF_02_R1_2004_01-05_ORIG_MID--AUDIO_02_R1_2004_05_Track05_wav.wav',\n",
    "  save_dir=\"test-transcription/aria-amt-tests\",\n",
    "  batch_size=1,\n",
    ")"
   ]
  },
  {
   "cell_type": "markdown",
   "metadata": {
    "collapsed": false
   },
   "source": [
    "# Evaluate Output"
   ]
  },
  {
   "cell_type": "code",
   "execution_count": 16,
   "metadata": {
    "ExecuteTime": {
     "end_time": "2024-03-08T04:42:50.244198Z",
     "start_time": "2024-03-08T04:42:46.774805Z"
    },
    "collapsed": false
   },
   "outputs": [],
   "source": [
    "import amt.evaluate"
   ]
  },
  {
   "cell_type": "code",
   "execution_count": 9,
   "metadata": {
    "ExecuteTime": {
     "end_time": "2024-03-08T04:04:40.989918Z",
     "start_time": "2024-03-08T04:04:40.944807Z"
    },
    "collapsed": false
   },
   "outputs": [],
   "source": [
    "t = 'test-transcription/aria-amt-tests/MIDI-Unprocessed_SMF_02_R1_2004_01-05_ORIG_MID--AUDIO_02_R1_2004_05_Track05_wav.mid'"
   ]
  },
  {
   "cell_type": "code",
   "execution_count": 25,
   "metadata": {
    "ExecuteTime": {
     "end_time": "2024-03-08T04:47:00.700219Z",
     "start_time": "2024-03-08T04:46:51.855649Z"
    },
    "collapsed": false
   },
   "outputs": [
    {
     "data": {
      "application/vnd.jupyter.widget-view+json": {
       "model_id": "f0b22ca267334ff99664db71cf5bf507",
       "version_major": 2,
       "version_minor": 0
      },
      "text/plain": [
       "  0%|          | 0/1 [00:00<?, ?it/s]"
      ]
     },
     "metadata": {},
     "output_type": "display_data"
    },
    {
     "name": "stdout",
     "output_type": "stream",
     "text": [
      "{\n",
      "    \"Precision\": 0.7517046185513958,\n",
      "    \"Recall\": 0.7401824170255891,\n",
      "    \"F-measure\": 0.7458990234250336,\n",
      "    \"Average_Overlap_Ratio\": 0.8397936527628539,\n",
      "    \"Precision_no_offset\": 0.995754534928599,\n",
      "    \"Recall_no_offset\": 0.9804915125411705,\n",
      "    \"F-measure_no_offset\": 0.9880640837428991,\n",
      "    \"Average_Overlap_Ratio_no_offset\": 0.7443189020732021,\n",
      "    \"Onset_Precision\": 0.996912389038981,\n",
      "    \"Onset_Recall\": 0.9816316189511021,\n",
      "    \"Onset_F-measure\": 0.9892129954681814,\n",
      "    \"Offset_Precision\": 0.8011063939276984,\n",
      "    \"Offset_Recall\": 0.7888269571826704,\n",
      "    \"Offset_F-measure\": 0.7949192570370843\n",
      "}\n"
     ]
    }
   ],
   "source": [
    "amt.evaluate.evaluate_mir_eval(\n",
    "  est_dir='test-transcription/aria-amt-tests',\n",
    "  ref_dir='test-transcription'\n",
    ")"
   ]
  },
  {
   "cell_type": "code",
   "execution_count": 24,
   "metadata": {
    "ExecuteTime": {
     "end_time": "2024-03-08T04:46:50.517817Z",
     "start_time": "2024-03-08T04:46:50.475201Z"
    },
    "collapsed": false
   },
   "outputs": [
    {
     "data": {
      "text/plain": [
       "<module 'amt.evaluate' from '/mnt/data10/spangher/aria-amt/amt/evaluate.py'>"
      ]
     },
     "execution_count": 24,
     "metadata": {},
     "output_type": "execute_result"
    }
   ],
   "source": [
    "reload(amt.evaluate)"
   ]
  },
  {
   "cell_type": "code",
   "execution_count": 23,
   "metadata": {
    "ExecuteTime": {
     "end_time": "2024-03-08T04:46:00.278645Z",
     "start_time": "2024-03-08T04:46:00.086183Z"
    },
    "collapsed": false
   },
   "outputs": [
    {
     "name": "stdout",
     "output_type": "stream",
     "text": [
      "test-transcription/MIDI-Unprocessed_SMF_02_R1_2004_01-05_ORIG_MID--AUDIO_02_R1_2004_05_Track05_wav.midi\r\n",
      "test-transcription/MIDI-Unprocessed_SMF_02_R1_2004_01-05_ORIG_MID--AUDIO_02_R1_2004_05_Track05_wav.wav\r\n"
     ]
    }
   ],
   "source": [
    "ls test-transcription/MIDI-Unprocessed_SMF_02_R1_2004_01-05_ORIG_MID--AUDIO_02_R1_2004_*"
   ]
  },
  {
   "cell_type": "code",
   "execution_count": null,
   "metadata": {
    "collapsed": false
   },
   "outputs": [],
   "source": []
  }
 ],
 "metadata": {
  "kernelspec": {
   "display_name": "Python 3",
   "language": "python",
   "name": "python3"
  },
  "language_info": {
   "codemirror_mode": {
    "name": "ipython",
    "version": 2
   },
   "file_extension": ".py",
   "mimetype": "text/x-python",
   "name": "python",
   "nbconvert_exporter": "python",
   "pygments_lexer": "ipython2",
   "version": "2.7.6"
  }
 },
 "nbformat": 4,
 "nbformat_minor": 0
}
